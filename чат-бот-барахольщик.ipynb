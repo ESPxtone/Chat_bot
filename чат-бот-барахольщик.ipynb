{
 "cells": [
  {
   "attachments": {},
   "cell_type": "markdown",
   "metadata": {},
   "source": [
    "# Чат-бот "
   ]
  },
  {
   "attachments": {},
   "cell_type": "markdown",
   "metadata": {},
   "source": [
    "В этом проекте будет реализован чат-бот-«барахольщик»: по продуктовому запросу он будет рекомендовать товары, по остальным запросам он будет отвечать «болталкой» (без фолбека)."
   ]
  },
  {
   "attachments": {},
   "cell_type": "markdown",
   "metadata": {},
   "source": [
    "В этом проекте нам предоставлены данные некоторого интернет магазина одежды. Наша задача реализовать следующие шаги:\n",
    "* Обучить классификатор: продуктовый запрос vs. всё остальное (продуктовым можно считать запрос, который равен названию или описанию товара).\n",
    "* Добавить логику поиска похожих товаров по продуктовому запросу.\n",
    "* На не продуктовый запрос бот будет отвечать \"болталкой\".\n",
    "* Вся логика должна быть завёрнута в метод get_answer(). Ответ на продуктовый запрос должен иметь вид \"product_id title\"."
   ]
  },
  {
   "cell_type": "code",
   "execution_count": 42,
   "metadata": {},
   "outputs": [],
   "source": [
    "# Импортируем нужные библиотеки\n",
    "import pandas as pd\n",
    "from pymorphy2 import MorphAnalyzer\n",
    "from stop_words import get_stop_words\n",
    "from string import punctuation\n",
    "import re\n",
    "import os\n",
    "import string\n",
    "import annoy\n",
    "import codecs\n",
    "from gensim.models import Word2Vec\n",
    "from tqdm.notebook import tqdm\n",
    "from sklearn import model_selection, preprocessing\n",
    "from sklearn.feature_extraction.text import CountVectorizer\n",
    "from sklearn import linear_model, metrics\n",
    "from tqdm import tqdm_notebook\n",
    "import numpy as np\n",
    "import matplotlib.pyplot as plt\n",
    "import pickle"
   ]
  },
  {
   "attachments": {},
   "cell_type": "markdown",
   "metadata": {},
   "source": [
    "## 1. Загрузка и обработка данных"
   ]
  },
  {
   "attachments": {},
   "cell_type": "markdown",
   "metadata": {},
   "source": [
    "Загрузим датасет с товарами:"
   ]
  },
  {
   "cell_type": "code",
   "execution_count": 252,
   "metadata": {},
   "outputs": [
    {
     "name": "stdout",
     "output_type": "stream",
     "text": [
      "(35548, 7)\n"
     ]
    },
    {
     "data": {
      "text/html": [
       "<div>\n",
       "<style scoped>\n",
       "    .dataframe tbody tr th:only-of-type {\n",
       "        vertical-align: middle;\n",
       "    }\n",
       "\n",
       "    .dataframe tbody tr th {\n",
       "        vertical-align: top;\n",
       "    }\n",
       "\n",
       "    .dataframe thead th {\n",
       "        text-align: right;\n",
       "    }\n",
       "</style>\n",
       "<table border=\"1\" class=\"dataframe\">\n",
       "  <thead>\n",
       "    <tr style=\"text-align: right;\">\n",
       "      <th></th>\n",
       "      <th>title</th>\n",
       "      <th>descrirption</th>\n",
       "      <th>product_id</th>\n",
       "      <th>category_id</th>\n",
       "      <th>subcategory_id</th>\n",
       "      <th>properties</th>\n",
       "      <th>image_links</th>\n",
       "    </tr>\n",
       "  </thead>\n",
       "  <tbody>\n",
       "    <tr>\n",
       "      <th>0</th>\n",
       "      <td>Юбка детская ORBY</td>\n",
       "      <td>Новая, не носили ни разу. В реале красивей чем...</td>\n",
       "      <td>58e3cfe6132ca50e053f5f82</td>\n",
       "      <td>22.0</td>\n",
       "      <td>2211</td>\n",
       "      <td>{'detskie_razmer_rost': '81-86 (1,5 года)'}</td>\n",
       "      <td>http://cache3.youla.io/files/images/360_360/58...</td>\n",
       "    </tr>\n",
       "    <tr>\n",
       "      <th>1</th>\n",
       "      <td>Ботильоны</td>\n",
       "      <td>Новые,привезены из Чехии ,указан размер 40,но ...</td>\n",
       "      <td>5667531b2b7f8d127d838c34</td>\n",
       "      <td>9.0</td>\n",
       "      <td>902</td>\n",
       "      <td>{'zhenskaya_odezhda_tzvet': 'Зеленый', 'visota...</td>\n",
       "      <td>http://cache3.youla.io/files/images/360_360/5b...</td>\n",
       "    </tr>\n",
       "    <tr>\n",
       "      <th>2</th>\n",
       "      <td>Брюки</td>\n",
       "      <td>Размер 40-42. Брюки почти новые - не знаю как ...</td>\n",
       "      <td>59534826aaab284cba337e06</td>\n",
       "      <td>9.0</td>\n",
       "      <td>906</td>\n",
       "      <td>{'zhenskaya_odezhda_dzhinsy_bryuki_tip': 'Брюк...</td>\n",
       "      <td>http://cache3.youla.io/files/images/360_360/59...</td>\n",
       "    </tr>\n",
       "  </tbody>\n",
       "</table>\n",
       "</div>"
      ],
      "text/plain": [
       "               title                                       descrirption   \n",
       "0  Юбка детская ORBY  Новая, не носили ни разу. В реале красивей чем...  \\\n",
       "1          Ботильоны  Новые,привезены из Чехии ,указан размер 40,но ...   \n",
       "2              Брюки  Размер 40-42. Брюки почти новые - не знаю как ...   \n",
       "\n",
       "                 product_id  category_id subcategory_id   \n",
       "0  58e3cfe6132ca50e053f5f82         22.0           2211  \\\n",
       "1  5667531b2b7f8d127d838c34          9.0            902   \n",
       "2  59534826aaab284cba337e06          9.0            906   \n",
       "\n",
       "                                          properties   \n",
       "0        {'detskie_razmer_rost': '81-86 (1,5 года)'}  \\\n",
       "1  {'zhenskaya_odezhda_tzvet': 'Зеленый', 'visota...   \n",
       "2  {'zhenskaya_odezhda_dzhinsy_bryuki_tip': 'Брюк...   \n",
       "\n",
       "                                         image_links  \n",
       "0  http://cache3.youla.io/files/images/360_360/58...  \n",
       "1  http://cache3.youla.io/files/images/360_360/5b...  \n",
       "2  http://cache3.youla.io/files/images/360_360/59...  "
      ]
     },
     "execution_count": 252,
     "metadata": {},
     "output_type": "execute_result"
    }
   ],
   "source": [
    "product_data = pd.read_csv('ProductsDataset.csv')\n",
    "print(product_data.shape)\n",
    "product_data.head(3)"
   ]
  },
  {
   "attachments": {},
   "cell_type": "markdown",
   "metadata": {},
   "source": [
    "Продуктовый запрос соотвествует названию или описанию товара. Добавим новый признак как сумму названия и описания, а также добавим признак метки класса продуктового запроса: "
   ]
  },
  {
   "cell_type": "code",
   "execution_count": 253,
   "metadata": {},
   "outputs": [
    {
     "data": {
      "text/html": [
       "<div>\n",
       "<style scoped>\n",
       "    .dataframe tbody tr th:only-of-type {\n",
       "        vertical-align: middle;\n",
       "    }\n",
       "\n",
       "    .dataframe tbody tr th {\n",
       "        vertical-align: top;\n",
       "    }\n",
       "\n",
       "    .dataframe thead th {\n",
       "        text-align: right;\n",
       "    }\n",
       "</style>\n",
       "<table border=\"1\" class=\"dataframe\">\n",
       "  <thead>\n",
       "    <tr style=\"text-align: right;\">\n",
       "      <th></th>\n",
       "      <th>text</th>\n",
       "      <th>label</th>\n",
       "    </tr>\n",
       "  </thead>\n",
       "  <tbody>\n",
       "    <tr>\n",
       "      <th>0</th>\n",
       "      <td>Юбка детская ORBY Новая, не носили ни разу. В ...</td>\n",
       "      <td>True</td>\n",
       "    </tr>\n",
       "    <tr>\n",
       "      <th>1</th>\n",
       "      <td>Ботильоны Новые,привезены из Чехии ,указан раз...</td>\n",
       "      <td>True</td>\n",
       "    </tr>\n",
       "    <tr>\n",
       "      <th>2</th>\n",
       "      <td>Брюки Размер 40-42. Брюки почти новые - не зна...</td>\n",
       "      <td>True</td>\n",
       "    </tr>\n",
       "    <tr>\n",
       "      <th>3</th>\n",
       "      <td>Продам детские шапки Продам шапки,кажда 200р.Р...</td>\n",
       "      <td>True</td>\n",
       "    </tr>\n",
       "    <tr>\n",
       "      <th>4</th>\n",
       "      <td>Блузка Темно-синяя, 42 размер,состояние отличн...</td>\n",
       "      <td>True</td>\n",
       "    </tr>\n",
       "  </tbody>\n",
       "</table>\n",
       "</div>"
      ],
      "text/plain": [
       "                                                text  label\n",
       "0  Юбка детская ORBY Новая, не носили ни разу. В ...   True\n",
       "1  Ботильоны Новые,привезены из Чехии ,указан раз...   True\n",
       "2  Брюки Размер 40-42. Брюки почти новые - не зна...   True\n",
       "3  Продам детские шапки Продам шапки,кажда 200р.Р...   True\n",
       "4  Блузка Темно-синяя, 42 размер,состояние отличн...   True"
      ]
     },
     "execution_count": 253,
     "metadata": {},
     "output_type": "execute_result"
    }
   ],
   "source": [
    "# Объеденяем названия и описания в один признак\n",
    "product_data['text'] = product_data['title'] + \" \" + product_data['descrirption']#.apply(lambda x: str(x))\n",
    "\n",
    "# Для удобства создадим новый датасет\n",
    "data = pd.DataFrame()\n",
    "data['text'] = product_data['text']\n",
    "\n",
    "# Обозначим  записи  в признаке label как True(продуктовые запросы)\n",
    "data['label'] = data['text'] == data['text']\n",
    "\n",
    "# Посмотрим на результат\n",
    "data.head()"
   ]
  },
  {
   "attachments": {},
   "cell_type": "markdown",
   "metadata": {},
   "source": [
    "Добавим в датасет примеры НЕ продуктовых запросов. Такие запросы загрузим из датасета вопросов на mail.ru:"
   ]
  },
  {
   "cell_type": "code",
   "execution_count": 189,
   "metadata": {},
   "outputs": [
    {
     "data": {
      "application/vnd.jupyter.widget-view+json": {
       "model_id": "c59c1f6cf3834847a73177853066d0a0",
       "version_major": 2,
       "version_minor": 0
      },
      "text/plain": [
       "0it [00:00, ?it/s]"
      ]
     },
     "metadata": {},
     "output_type": "display_data"
    },
    {
     "data": {
      "text/html": [
       "<div>\n",
       "<style scoped>\n",
       "    .dataframe tbody tr th:only-of-type {\n",
       "        vertical-align: middle;\n",
       "    }\n",
       "\n",
       "    .dataframe tbody tr th {\n",
       "        vertical-align: top;\n",
       "    }\n",
       "\n",
       "    .dataframe thead th {\n",
       "        text-align: right;\n",
       "    }\n",
       "</style>\n",
       "<table border=\"1\" class=\"dataframe\">\n",
       "  <thead>\n",
       "    <tr style=\"text-align: right;\">\n",
       "      <th></th>\n",
       "      <th>text</th>\n",
       "      <th>label</th>\n",
       "    </tr>\n",
       "  </thead>\n",
       "  <tbody>\n",
       "    <tr>\n",
       "      <th>0</th>\n",
       "      <td></td>\n",
       "      <td>False</td>\n",
       "    </tr>\n",
       "    <tr>\n",
       "      <th>1</th>\n",
       "      <td>Как парни относятся к цветным линзам? Если у д...</td>\n",
       "      <td>False</td>\n",
       "    </tr>\n",
       "    <tr>\n",
       "      <th>2</th>\n",
       "      <td>Что делать, сегодня нашёл 2 миллиона рублей? .</td>\n",
       "      <td>False</td>\n",
       "    </tr>\n",
       "    <tr>\n",
       "      <th>3</th>\n",
       "      <td>Эбу в двенашке называется Итэлма что за эбу? .</td>\n",
       "      <td>False</td>\n",
       "    </tr>\n",
       "    <tr>\n",
       "      <th>4</th>\n",
       "      <td>академия вампиров. сколько на даный момент час...</td>\n",
       "      <td>False</td>\n",
       "    </tr>\n",
       "  </tbody>\n",
       "</table>\n",
       "</div>"
      ],
      "text/plain": [
       "                                                text  label\n",
       "0                                                     False\n",
       "1  Как парни относятся к цветным линзам? Если у д...  False\n",
       "2     Что делать, сегодня нашёл 2 миллиона рублей? .  False\n",
       "3     Эбу в двенашке называется Итэлма что за эбу? .  False\n",
       "4  академия вампиров. сколько на даный момент час...  False"
      ]
     },
     "execution_count": 189,
     "metadata": {},
     "output_type": "execute_result"
    }
   ],
   "source": [
    "sentences = [] # список запросов\n",
    "c = 0 # счетчик (загрузим 35500 запросов, чтобы классы были сбалансированы)\n",
    "\n",
    "# проходимся по вопросам и записываем из в список\n",
    "with codecs.open(\"prepared_answers.txt\", \"r\", \"utf-8\") as fin:\n",
    "    for line in tqdm(fin):\n",
    "        spls = line.split(\"\\t\")\n",
    "        sentences.append(spls[0]) # добавляем только вопрос\n",
    "        c += 1\n",
    "        if c > 35500:\n",
    "            break\n",
    "\n",
    "# Создадим датасет не продуктовых запросов        \n",
    "not_product_data = pd.DataFrame()\n",
    "not_product_data['text'] = pd.Series(sentences) # добавляем загруженные запросы\n",
    "not_product_data['label'] = not_product_data['text'] != not_product_data['text'] # помечаем класс как False\n",
    "\n",
    "# посмотрим на результат\n",
    "not_product_data.head()"
   ]
  },
  {
   "attachments": {},
   "cell_type": "markdown",
   "metadata": {},
   "source": [
    "Объеденим датасеты и закодируем label:"
   ]
  },
  {
   "cell_type": "code",
   "execution_count": 190,
   "metadata": {},
   "outputs": [
    {
     "name": "stdout",
     "output_type": "stream",
     "text": [
      "(71049, 2)\n"
     ]
    },
    {
     "data": {
      "image/png": "[encoded data removed]",
      "text/plain": [
       "<Figure size 640x480 with 1 Axes>"
      ]
     },
     "metadata": {},
     "output_type": "display_data"
    }
   ],
   "source": [
    "# общий датасет \n",
    "concat_df = pd.concat([not_product_data, data]).reset_index(drop=True)\n",
    "\n",
    "# кодируем \n",
    "concat_df['label'] = concat_df['label']. apply(lambda x: 1 if x == True else 0)\n",
    "\n",
    "# посмотрим на размерность\n",
    "print(concat_df.shape)\n",
    "\n",
    "# посмотрим на баланс классов\n",
    "plt.hist(concat_df['label'])\n",
    "plt.show()"
   ]
  },
  {
   "attachments": {},
   "cell_type": "markdown",
   "metadata": {},
   "source": [
    "Как мы видим, классы сбалансированны, что позволяет использовать accuracy как простую и интерпретируемую метрику, хорошо показывающую качество модели. "
   ]
  },
  {
   "attachments": {},
   "cell_type": "markdown",
   "metadata": {},
   "source": [
    "Осталось только предобработать текст: "
   ]
  },
  {
   "cell_type": "code",
   "execution_count": 191,
   "metadata": {},
   "outputs": [],
   "source": [
    "# Для фильтрации пунктуации\n",
    "exclude = set(string.punctuation)\n",
    "# Для приведения слов в начальной форме\n",
    "morpher = MorphAnalyzer()\n",
    "\n",
    "# Для фильтрации стоп-слов\n",
    "sw = get_stop_words(\"ru\")\n",
    "\n",
    "# Обернем обработку в функцию \n",
    "def preprocess_txt(line):\n",
    "    spls = \"\".join(i for i in line.strip() if i not in exclude).split() # удаляем пунктуацию\n",
    "    spls = [morpher.parse(i.lower())[0].normal_form for i in spls] # нормализируем и лемматизируем\n",
    "    spls = [i for i in spls if i not in sw and i != \"\"] # удаляем стоп-слова\n",
    "    return \" \".join(spls)"
   ]
  },
  {
   "cell_type": "code",
   "execution_count": 192,
   "metadata": {},
   "outputs": [
    {
     "data": {
      "text/html": [
       "<div>\n",
       "<style scoped>\n",
       "    .dataframe tbody tr th:only-of-type {\n",
       "        vertical-align: middle;\n",
       "    }\n",
       "\n",
       "    .dataframe tbody tr th {\n",
       "        vertical-align: top;\n",
       "    }\n",
       "\n",
       "    .dataframe thead th {\n",
       "        text-align: right;\n",
       "    }\n",
       "</style>\n",
       "<table border=\"1\" class=\"dataframe\">\n",
       "  <thead>\n",
       "    <tr style=\"text-align: right;\">\n",
       "      <th></th>\n",
       "      <th>text</th>\n",
       "      <th>label</th>\n",
       "    </tr>\n",
       "  </thead>\n",
       "  <tbody>\n",
       "    <tr>\n",
       "      <th>0</th>\n",
       "      <td></td>\n",
       "      <td>0</td>\n",
       "    </tr>\n",
       "    <tr>\n",
       "      <th>1</th>\n",
       "      <td>парень относиться цветной линза девушка зелёны...</td>\n",
       "      <td>0</td>\n",
       "    </tr>\n",
       "    <tr>\n",
       "      <th>2</th>\n",
       "      <td>делать найти 2 миллион рубль</td>\n",
       "      <td>0</td>\n",
       "    </tr>\n",
       "    <tr>\n",
       "      <th>3</th>\n",
       "      <td>эбу двенашка называться итэлма эбу</td>\n",
       "      <td>0</td>\n",
       "    </tr>\n",
       "    <tr>\n",
       "      <th>4</th>\n",
       "      <td>академия вампир даный момент часть книга акаде...</td>\n",
       "      <td>0</td>\n",
       "    </tr>\n",
       "  </tbody>\n",
       "</table>\n",
       "</div>"
      ],
      "text/plain": [
       "                                                text  label\n",
       "0                                                         0\n",
       "1  парень относиться цветной линза девушка зелёны...      0\n",
       "2                       делать найти 2 миллион рубль      0\n",
       "3                 эбу двенашка называться итэлма эбу      0\n",
       "4  академия вампир даный момент часть книга акаде...      0"
      ]
     },
     "execution_count": 192,
     "metadata": {},
     "output_type": "execute_result"
    }
   ],
   "source": [
    "# обработаем текст\n",
    "concat_df['text'] = concat_df['text'].apply(lambda x: preprocess_txt(str(x)))\n",
    "\n",
    "# смотрим результат\n",
    "concat_df.head()"
   ]
  },
  {
   "attachments": {},
   "cell_type": "markdown",
   "metadata": {},
   "source": [
    "## 2. Классификация запроса"
   ]
  },
  {
   "attachments": {},
   "cell_type": "markdown",
   "metadata": {},
   "source": [
    "Создадим обучающею и тестовую выборки:"
   ]
  },
  {
   "cell_type": "code",
   "execution_count": 195,
   "metadata": {},
   "outputs": [
    {
     "name": "stdout",
     "output_type": "stream",
     "text": [
      "Train size: (53286,)\n",
      "Test size: (17763,)\n"
     ]
    }
   ],
   "source": [
    "train_x, valid_x, train_y, valid_y = model_selection.train_test_split(concat_df['text'], concat_df['label'])\n",
    "print(\"Train size:\", train_x.shape)\n",
    "print(\"Test size:\", valid_x.shape)"
   ]
  },
  {
   "attachments": {},
   "cell_type": "markdown",
   "metadata": {},
   "source": [
    "Чтобы текст можно было передать в модель - сделаем его векторизацию:"
   ]
  },
  {
   "cell_type": "code",
   "execution_count": 196,
   "metadata": {},
   "outputs": [],
   "source": [
    "# Обучаем векторизатор\n",
    "count_vect = CountVectorizer().fit(train_x.values)\n",
    "\n",
    "# Получаем выборки с извлеченными признаками\n",
    "xtrain_count = count_vect.transform(train_x)\n",
    "xvalid_count = count_vect.transform(valid_x)"
   ]
  },
  {
   "attachments": {},
   "cell_type": "markdown",
   "metadata": {},
   "source": [
    "В качестве классификатора обучим логистическую регрессию:"
   ]
  },
  {
   "cell_type": "code",
   "execution_count": 197,
   "metadata": {},
   "outputs": [
    {
     "name": "stdout",
     "output_type": "stream",
     "text": [
      "accuracy_score: 0.9823228058323481\n"
     ]
    }
   ],
   "source": [
    "# Обучаем\n",
    "lr = linear_model.LogisticRegression()\n",
    "lr.fit(xtrain_count,train_y)\n",
    "\n",
    "# Сделаем предсказание и посчитаем метрику\n",
    "predictions = lr.predict(xvalid_count)\n",
    "print(\"accuracy_score:\", metrics.accuracy_score(predictions, valid_y))"
   ]
  },
  {
   "attachments": {},
   "cell_type": "markdown",
   "metadata": {},
   "source": [
    "Как видим логистическая регрессия отлично справилась с классификацией. Сохраним модель:"
   ]
  },
  {
   "cell_type": "code",
   "execution_count": 198,
   "metadata": {},
   "outputs": [],
   "source": [
    "# Производим сериализацию и записываем результат в файл формата pkl\n",
    "with open('lr_product.pkl', 'wb') as output:\n",
    "    pickle.dump(lr, output)"
   ]
  },
  {
   "attachments": {},
   "cell_type": "markdown",
   "metadata": {},
   "source": [
    "Попробуем загрузить модель и передать в неё несколько запросов:"
   ]
  },
  {
   "cell_type": "code",
   "execution_count": 199,
   "metadata": {},
   "outputs": [
    {
     "name": "stdout",
     "output_type": "stream",
     "text": [
      "Продуктовый запрос: [1]\n",
      "Не продуктовый запрос: [0]\n"
     ]
    }
   ],
   "source": [
    "# Загружаем\n",
    "with open('lr_product.pkl', 'rb') as pkl_file:\n",
    "    lr_from_file = pickle.load(pkl_file)\n",
    "\n",
    "# Запросы    \n",
    "product = 'Купить мужские брюки'\n",
    "not_product = 'Как приготовить борщь?'\n",
    "\n",
    "# Классификация запросов\n",
    "print(\"Продуктовый запрос:\", lr_from_file.predict(count_vect.transform([preprocess_txt(product)])))\n",
    "print(\"Не продуктовый запрос:\", lr_from_file.predict(count_vect.transform([preprocess_txt(not_product)])))"
   ]
  },
  {
   "attachments": {},
   "cell_type": "markdown",
   "metadata": {},
   "source": [
    "Отлично! Классификатор работает корректно."
   ]
  },
  {
   "attachments": {},
   "cell_type": "markdown",
   "metadata": {},
   "source": [
    "## 3. Поиск похожих товаров"
   ]
  },
  {
   "attachments": {},
   "cell_type": "markdown",
   "metadata": {},
   "source": [
    "Обработаем текст для дальнейшей свертки в векторное представление:"
   ]
  },
  {
   "cell_type": "code",
   "execution_count": 254,
   "metadata": {},
   "outputs": [
    {
     "data": {
      "text/plain": [
       "0    [юбка, детский, orby, новый, носить, реал, кра...\n",
       "1    [ботильон, новыепривезти, чехия, указать, разм...\n",
       "2    [брюки, размер, 4042, брюки, новый, знать, мер...\n",
       "3    [продать, детский, шапка, продать, шапкикажда,...\n",
       "4    [блузка, темносиний, 42, размерсостояние, отли...\n",
       "Name: text, dtype: object"
      ]
     },
     "execution_count": 254,
     "metadata": {},
     "output_type": "execute_result"
    }
   ],
   "source": [
    "product_data['text'] = product_data['text'].apply(lambda x: preprocess_txt(str(x)).split())\n",
    "product_data['text'].head()"
   ]
  },
  {
   "attachments": {},
   "cell_type": "markdown",
   "metadata": {},
   "source": [
    "Обучим модель Word2Vec на текстах:"
   ]
  },
  {
   "cell_type": "code",
   "execution_count": 273,
   "metadata": {},
   "outputs": [],
   "source": [
    "modelWV = Word2Vec(sentences=product_data['text'], vector_size=20, min_count=1, window=5)"
   ]
  },
  {
   "attachments": {},
   "cell_type": "markdown",
   "metadata": {},
   "source": [
    "Для того, чтобы быстро находить айтемы положим эмбединги их тайтлов в ANN индекс:"
   ]
  },
  {
   "cell_type": "code",
   "execution_count": 274,
   "metadata": {},
   "outputs": [
    {
     "name": "stderr",
     "output_type": "stream",
     "text": [
      "C:\\Users\\ds129\\AppData\\Local\\Temp\\ipykernel_14660\\763825458.py:7: TqdmDeprecationWarning: This function will be removed in tqdm==5.0.0\n",
      "Please use `tqdm.notebook.tqdm` instead of `tqdm.tqdm_notebook`\n",
      "  for i in tqdm_notebook(range(len(product_data))):\n"
     ]
    },
    {
     "data": {
      "application/vnd.jupyter.widget-view+json": {
       "model_id": "887abe4146a34f1891f0055c86ecc22f",
       "version_major": 2,
       "version_minor": 0
      },
      "text/plain": [
       "  0%|          | 0/35548 [00:00<?, ?it/s]"
      ]
     },
     "metadata": {},
     "output_type": "display_data"
    },
    {
     "data": {
      "text/plain": [
       "True"
      ]
     },
     "execution_count": 274,
     "metadata": {},
     "output_type": "execute_result"
    }
   ],
   "source": [
    "# Создадим объект индекса\n",
    "ft_index_shop = annoy.AnnoyIndex(20 ,'angular')\n",
    "\n",
    "index_map_shop = {}\n",
    "counter = 0\n",
    "\n",
    "for i in tqdm_notebook(range(len(product_data))):\n",
    "    n_wv2 = 0\n",
    "    index_map_shop[counter] = (product_data.loc[i, \"product_id\"], product_data.loc[i, \"title\"])\n",
    "    vector_ft = np.zeros(20)\n",
    "    # Каждое слово обернем в эмбеддинг\n",
    "    for word in product_data.loc[i, \"text\"]:\n",
    "        if word in modelWV.wv:\n",
    "            vector_ft += modelWV.wv[word]\n",
    "            n_wv2 += 1\n",
    "    if n_wv2 > 0:\n",
    "        vector_ft = vector_ft / n_wv2\n",
    "    ft_index_shop.add_item(counter, vector_ft)\n",
    "    counter += 1\n",
    "    \n",
    "ft_index_shop.build(10)"
   ]
  },
  {
   "attachments": {},
   "cell_type": "markdown",
   "metadata": {},
   "source": [
    "Теперь напишем функцию для поиска похожих товаров. Проходимся по всем словам в запросе, считаем, что вектор запроса - усредненная сумма word2vecов слов, которые входят в него:"
   ]
  },
  {
   "cell_type": "code",
   "execution_count": 275,
   "metadata": {},
   "outputs": [],
   "source": [
    "def recommend(request):\n",
    "    request = preprocess_txt(request).split()\n",
    "    vector_ft = np.zeros(20)\n",
    "    n_wv2 = 0\n",
    "    # Каждое слово обернем в эмбеддинг\n",
    "    for word in request:\n",
    "        if word in modelWV.wv:\n",
    "            vector_ft += modelWV.wv[word]\n",
    "            n_wv2 += 1\n",
    "    if n_wv2 > 0:\n",
    "        vector_ft = vector_ft / n_wv2\n",
    "    # Найдем ближайшие по тайтлу\n",
    "    rec_items = ft_index_shop.get_nns_by_vector(vector_ft, 5)\n",
    "    return [index_map_shop[i] for i in rec_items]"
   ]
  },
  {
   "attachments": {},
   "cell_type": "markdown",
   "metadata": {},
   "source": [
    "Проверим как работает функция (она возращает id и title товаров 5 похожих товаров):"
   ]
  },
  {
   "cell_type": "code",
   "execution_count": 318,
   "metadata": {},
   "outputs": [
    {
     "name": "stdout",
     "output_type": "stream",
     "text": [
      "[('5a62370e2aecd6791a3388c6', 'Детский костюм'), ('58d8207428c4aaa49cd0deb5', 'Костюм-тройка детский, 135-140'), ('5a6efdd6bd36c0190d474f54', 'Детский костюм'), ('5931752865bcf15ab81a3cf3', 'Костюм домашний'), ('5b2d0085de885472fa0f7052', 'Спортивный костюм')]\n",
      "[('5a6ab42ede88541b187b1b6b', 'Свадебное платье'), ('5bddba2122a44993625eff85', 'Свадебное платье'), ('5b9bac452aecd607ad3483e2', 'Вечерние платье'), ('5ac46019de88543e437e7632', 'Платье вечернее'), ('5a40e17fc6ab9e21370573c2', 'Вечернее платье.')]\n"
     ]
    }
   ],
   "source": [
    "print(recommend(\"Спортивный костюм детский\"))\n",
    "print(recommend(\"Свадебное платье\"))"
   ]
  },
  {
   "attachments": {},
   "cell_type": "markdown",
   "metadata": {},
   "source": [
    "Поиск похожих товаров работает корректно!"
   ]
  },
  {
   "attachments": {},
   "cell_type": "markdown",
   "metadata": {},
   "source": [
    "## 4. Болталка"
   ]
  },
  {
   "attachments": {},
   "cell_type": "markdown",
   "metadata": {},
   "source": [
    "Ответы на не продуктовые вопросы будем искать среди ответов с mail.ru.\n",
    "Предобработаем ответы из файла: к каждому вопросу присоединим 1 ответ и запишем в файл на будущее:"
   ]
  },
  {
   "cell_type": "code",
   "execution_count": 277,
   "metadata": {},
   "outputs": [
    {
     "data": {
      "application/vnd.jupyter.widget-view+json": {
       "model_id": "55eebcab64fe467e84aa20a8c63318e0",
       "version_major": 2,
       "version_minor": 0
      },
      "text/plain": [
       "0it [00:00, ?it/s]"
      ]
     },
     "metadata": {},
     "output_type": "display_data"
    }
   ],
   "source": [
    "question = None\n",
    "written = False\n",
    "\n",
    "#Мы идем по всем записям, берем первую строку как вопрос\n",
    "# и после знака --- находим ответ\n",
    "with codecs.open(\"prepared_answers.txt\",\"w\", \"utf-8\") as fout:\n",
    "    with codecs.open(\"Otvety.txt\", \"r\", \"utf-8\") as fin:\n",
    "        for line in tqdm(fin):\n",
    "            if line.startswith(\"---\"):\n",
    "                written = False\n",
    "                continue\n",
    "            if not written and question is not None:\n",
    "                fout.write(question.replace(\"\\t\", \" \").strip() + \"\\t\" + line.replace(\"\\t\", \" \"))\n",
    "                written = True\n",
    "                question = None\n",
    "                continue\n",
    "            if not written:\n",
    "                question = line.strip()\n",
    "                continue"
   ]
  },
  {
   "attachments": {},
   "cell_type": "markdown",
   "metadata": {},
   "source": [
    "Загрузим и обработаем ответы:"
   ]
  },
  {
   "cell_type": "code",
   "execution_count": 279,
   "metadata": {},
   "outputs": [
    {
     "data": {
      "application/vnd.jupyter.widget-view+json": {
       "model_id": "2536670411b64dd9b9ee3f19d1eb9dce",
       "version_major": 2,
       "version_minor": 0
      },
      "text/plain": [
       "0it [00:00, ?it/s]"
      ]
     },
     "metadata": {},
     "output_type": "display_data"
    }
   ],
   "source": [
    "otvety_sentences = []\n",
    "c = 0\n",
    "\n",
    "with codecs.open(\"Otvety.txt\", \"r\", \"utf-8\") as fin:\n",
    "    for line in tqdm(fin):\n",
    "        spls = preprocess_txt(line)\n",
    "        otvety_sentences.append(spls)\n",
    "        c += 1\n",
    "        if c > 300000:  # загрузим 300к ответов (чем больше - тем лучше, но дольше :))\n",
    "            break"
   ]
  },
  {
   "attachments": {},
   "cell_type": "markdown",
   "metadata": {},
   "source": [
    "Векторизируем ответы с помощью Word2Vec:"
   ]
  },
  {
   "cell_type": "code",
   "execution_count": 280,
   "metadata": {},
   "outputs": [],
   "source": [
    "otvety_sentences = [i for i in otvety_sentences if len(i) > 2]\n",
    "modelWV_otvety = Word2Vec(sentences=sentences, vector_size=100, min_count=1, window=5)"
   ]
  },
  {
   "attachments": {},
   "cell_type": "markdown",
   "metadata": {},
   "source": [
    "Складываем в индекс вопросы:"
   ]
  },
  {
   "cell_type": "code",
   "execution_count": 281,
   "metadata": {},
   "outputs": [
    {
     "data": {
      "application/vnd.jupyter.widget-view+json": {
       "model_id": "fea785bed2624e9d881fcdcd13b25d89",
       "version_major": 2,
       "version_minor": 0
      },
      "text/plain": [
       "0it [00:00, ?it/s]"
      ]
     },
     "metadata": {},
     "output_type": "display_data"
    },
    {
     "data": {
      "text/plain": [
       "True"
      ]
     },
     "execution_count": 281,
     "metadata": {},
     "output_type": "execute_result"
    }
   ],
   "source": [
    "index_bot = annoy.AnnoyIndex(100 ,'angular')\n",
    "\n",
    "index_map_bot = {}\n",
    "counter = 0\n",
    "\n",
    "with codecs.open(\"prepared_answers.txt\", \"r\", \"utf-8\") as f:\n",
    "    for line in tqdm(f):\n",
    "        n_w2v = 0\n",
    "        spls = line.split(\"\\t\")\n",
    "        index_map_bot[counter] = spls[1]\n",
    "        question = preprocess_txt(spls[0])\n",
    "        vector = np.zeros(100)\n",
    "        for word in question:\n",
    "            if word in modelWV_otvety.wv:\n",
    "                vector += modelWV_otvety.wv[word]\n",
    "                n_w2v += 1\n",
    "        if n_w2v > 0:\n",
    "            vector = vector / n_w2v\n",
    "        index_bot.add_item(counter, vector)\n",
    "            \n",
    "        counter += 1\n",
    "\n",
    "index_bot.build(10)"
   ]
  },
  {
   "attachments": {},
   "cell_type": "markdown",
   "metadata": {},
   "source": [
    "Теперь реализуем метод, который получит на вход вопрос и найдет ответ к нему. Препроцессим вопрос, находим ближайший вопрос и выбираем ответ на него:"
   ]
  },
  {
   "cell_type": "code",
   "execution_count": 282,
   "metadata": {},
   "outputs": [],
   "source": [
    "def find_answer(question):\n",
    "    preprocessed_question = preprocess_txt(question)\n",
    "    n_w2v = 0\n",
    "    vector = np.zeros(100)\n",
    "    for word in preprocessed_question:\n",
    "        if word in modelWV_otvety.wv:\n",
    "            vector += modelWV_otvety.wv[word]\n",
    "            n_w2v += 1\n",
    "    if n_w2v > 0:\n",
    "        vector = vector / n_w2v\n",
    "    answer_index = index_bot.get_nns_by_vector(vector, 1)\n",
    "    return index_map_bot[answer_index[0]]"
   ]
  },
  {
   "attachments": {},
   "cell_type": "markdown",
   "metadata": {},
   "source": [
    "Посмотрим как работает функция:"
   ]
  },
  {
   "cell_type": "code",
   "execution_count": 289,
   "metadata": {},
   "outputs": [
    {
     "name": "stdout",
     "output_type": "stream",
     "text": [
      "Гусь, утка фаршированные.<br>Подготовленную тушку, заправленную «в кармашек», натираем внутри и снаружи солью, фаршируем картофелем или черносливом, или яблоками через разрез в брюшке, зашиваем нитками и жарим в горячей духовке на противне 1,5 - 2 часа, периодически поливая вытопившимся жиром и соком.<br>При подаче на стол у птицы удаляем нитки, вынимаем ложкой из брюшка начинку, разрезаем тушку на порционные куски и обкладываем их вынутым фаршем, поливаем соком, выделившимся при жарке, и растопленным сливочным маслом.<br>Для начинки подбираем клубни картофеля среднего размера, очищаем и слегка обжариваем; или очищенные от кожицы и семян яблоки (лучше антоновка) нарезаем на дольки, посыпаем сахаром; или предварительно замоченный чернослив с удаленной косточкой, посыпанный сахаром.<br><br>Продукты для фаршированного гуся или утки: 1 тушка гуся или утки, соль. <br>Начинка для гуся: 1600 г картофеля, 60 г маргарина или 1500 г вареного чернослива без косточек, 200 г сахара, или 1800 г яблок, 250 г сахара.<br>Начинка для утки: 1000 г (1кг) картофеля, 40 г маргарина или 1000г (1кг) чернослива, 150 г сахара, или 1200 г яблок, 200 г сахара; 150 г сливочного масла для поливки.<br><br>Утка с черносливом<br><br>Утка - 1 шт.<br>Чернослив - 300 г<br>Майонез - 200 г<br>Чеснок - 2-3 зубчика<br>Масло подсолнечное - 100 г<br>Молотый черный перец<br>Перец горошком<br>Молотый кориандр<br>Лавровый лист<br>Базилик<br>Соль<br><br>Чернослив залить кипятком. Утку разрезать на порционные куски и обжарить на сковороде в масле до образования румяной корочки. Вынуть в отдельную емкость и дать остыть. В майонез добавить натертый на мелкой терке чеснок, соль, молотый черный перец, молотый кориандр и перемешать. Куски утки густо смазать смесью майонеза и специй и уложить слоями в казан: слой утки - слой чернослива. Долить воды (можно добавить сливки)- чтобы чуть покрывала утку. Немного посолить, посыпать сушеным базиликом, положить лавровый лист и перец горошком. Довести до кипения и тушить на слабом огне 40-50 минут.<br>Еще можно добавить орехи, очень вкусно.<br><br>. \n",
      "\n",
      "Сайт Общества по защите прав потребителей ozpp.ru <br> <br>Только проблема в том, что именно марки и подделывают.. \n",
      "\n",
      "все путем!) ) ты-то как?))). \n",
      "\n"
     ]
    }
   ],
   "source": [
    "print(find_answer('Как приготовить утку?'))\n",
    "print(find_answer('Где оформить заграничный паспорт?'))\n",
    "print(find_answer('Привет, как дела?'))"
   ]
  },
  {
   "attachments": {},
   "cell_type": "markdown",
   "metadata": {},
   "source": [
    "Как видим бот отвечает не всегда корректно. Чтобы бот отвечал точнее - можно загрузить больше вопросов и ответов(в данном проекте число вопросов было ограничено ради экономии времени выполнения кода)."
   ]
  },
  {
   "attachments": {},
   "cell_type": "markdown",
   "metadata": {},
   "source": [
    "## 5. Чат-бот"
   ]
  },
  {
   "attachments": {},
   "cell_type": "markdown",
   "metadata": {},
   "source": [
    "Теперь объединим классификатор, поиск товаров и болталку в одну функцию:"
   ]
  },
  {
   "cell_type": "code",
   "execution_count": 295,
   "metadata": {},
   "outputs": [],
   "source": [
    "def get_answer(request):\n",
    "    if lr_from_file.predict(count_vect.transform([preprocess_txt(request)])) == 1: # продуктовый запрос\n",
    "        return recommend(request)\n",
    "    else: # не продуктовый запрос\n",
    "        return find_answer(request)     "
   ]
  },
  {
   "attachments": {},
   "cell_type": "markdown",
   "metadata": {},
   "source": [
    "Сделаем пару тестов:"
   ]
  },
  {
   "cell_type": "code",
   "execution_count": 309,
   "metadata": {},
   "outputs": [
    {
     "data": {
      "text/plain": [
       "[('5b60b60b074b3e2ff548cf07', 'Костюм летний'),\n",
       " ('5a2a65366c86cb898827c632', 'Летний Джинсовый костюм.'),\n",
       " ('5ac0f3e3f2026326a11d8882', 'Летний костюм'),\n",
       " ('5af4fd44a09cd5c35b0d156d', 'Сарафан'),\n",
       " ('59e364c3dbdf0f21841e9c78', 'Сарафан школьный')]"
      ]
     },
     "execution_count": 309,
     "metadata": {},
     "output_type": "execute_result"
    }
   ],
   "source": [
    "get_answer('Юбка детская ORBY')"
   ]
  },
  {
   "cell_type": "code",
   "execution_count": 310,
   "metadata": {},
   "outputs": [
    {
     "data": {
      "text/plain": [
       "'Мои любимчики Pink cream69!!!!. \\n'"
      ]
     },
     "execution_count": 310,
     "metadata": {},
     "output_type": "execute_result"
    }
   ],
   "source": [
    "get_answer('Где ключи от танка')"
   ]
  },
  {
   "cell_type": "code",
   "execution_count": 311,
   "metadata": {},
   "outputs": [
    {
     "data": {
      "text/plain": [
       "'<p>Йо́сеф Гу́мпаль (чеш. Josef Humpál; 30 января 1918, Оломоуц — 20 декабря 1984, Невшатель) — чехословацкий футболист и футбольный тренер.</p>   <h2>Клубная карьера</h2> <h2>Тренерская карьера</h2> <h2>Достижения</h2> <ul> <li>Чемпион Второго дивизиона Франции: 1946/47</li> <li>Лучший бомбардир Первого дивизиона Франции: 1949</li> <li>Лучший бомбардир Второго дивизиона Франции: 1947</li> <li>Рекордсмен «Сошо» по количеству голов в сезоне: 50 голов</li> <li>Рекордсмен «Сошо» по количеству голов в сезоне лиги: 45 голов</li> </ul> <h2>Статистика выступлений</h2> <p>Источник:</p> <ul> <li>Jozef Humpal\\xa0(фр.). Pari-et-gagne.com. Проверено 23 октября 2015.</li> </ul> <h2>Примечания</h2> <h2>Ссылки</h2> <ul> <li>Профиль футболиста на сайте Footballdatabase.eu \\xa0(фр.)</li> </ul>. \\n'"
      ]
     },
     "execution_count": 311,
     "metadata": {},
     "output_type": "execute_result"
    }
   ],
   "source": [
    "get_answer('Мужская обувь')"
   ]
  },
  {
   "cell_type": "code",
   "execution_count": 313,
   "metadata": {},
   "outputs": [
    {
     "data": {
      "text/plain": [
       "[('5c028c76226e481a603511bb', 'Куртка зимняя'),\n",
       " ('5beeca379e94ba89b16da55a', 'Куртка'),\n",
       " ('5bb1d3fe0fff81421a6608d1', 'Зимняя куртка кожанная'),\n",
       " ('5a53768ed138b3276d1abf82', 'Куртка зимняя'),\n",
       " ('5bc780ce5eaa9e70a769eb15', 'Куртка зимняя \"MTFORCE\"')]"
      ]
     },
     "execution_count": 313,
     "metadata": {},
     "output_type": "execute_result"
    }
   ],
   "source": [
    "get_answer('Куртка зимняя')"
   ]
  },
  {
   "attachments": {},
   "cell_type": "markdown",
   "metadata": {},
   "source": [
    "В большинстве случаев бот работает корректно, но иногда классифицирует запрос не верно. Улучшить качество работы бота можно увеличив число примеров для обучения линейной регрессии и векторизаторов."
   ]
  }
 ],
 "metadata": {
  "kernelspec": {
   "display_name": "Python 3",
   "language": "python",
   "name": "python3"
  },
  "language_info": {
   "codemirror_mode": {
    "name": "ipython",
    "version": 3
   },
   "file_extension": ".py",
   "mimetype": "text/x-python",
   "name": "python",
   "nbconvert_exporter": "python",
   "pygments_lexer": "ipython3",
   "version": "3.10.11"
  },
  "orig_nbformat": 4
 },
 "nbformat": 4,
 "nbformat_minor": 2
}
